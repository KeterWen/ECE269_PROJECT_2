{
 "cells": [
  {
   "attachments": {},
   "cell_type": "markdown",
   "metadata": {},
   "source": [
    "# Noiseless case"
   ]
  },
  {
   "cell_type": "code",
   "execution_count": null,
   "metadata": {},
   "outputs": [],
   "source": [
    "import cupy as np\n",
    "from tqdm import trange\n",
    "import pickle"
   ]
  },
  {
   "cell_type": "code",
   "execution_count": null,
   "metadata": {},
   "outputs": [],
   "source": [
    "# Const Values\n",
    "value_range = np.array(list(range(1, 11)) + list(range(-10, 0)))"
   ]
  },
  {
   "cell_type": "code",
   "execution_count": null,
   "metadata": {},
   "outputs": [],
   "source": [
    "def generate_A(M, N):\n",
    "    \"\"\"\n",
    "        Given M & N, generate the mesureament matrix A and normalize the columns\n",
    "    \"\"\"\n",
    "    A = np.random.normal(0, 1, (M, N))\n",
    "    norm = np.linalg.norm(A, axis=0)\n",
    "    return A / norm"
   ]
  },
  {
   "cell_type": "code",
   "execution_count": null,
   "metadata": {},
   "outputs": [],
   "source": [
    "def generate_x(N, s):\n",
    "    \"\"\"\n",
    "        Given N and the Sparsity s, return the sparse vector\n",
    "    \"\"\"\n",
    "    x = np.zeros(N)\n",
    "    indices = np.random.choice(list(range(N)), s, replace=False)\n",
    "    random_values = [np.random.choice([np.random.uniform(-10, -1), np.random.uniform(1, 10)], 1)[0] for _ in range(s)]\n",
    "    x[indices] = random_values\n",
    "    return x"
   ]
  },
  {
   "cell_type": "code",
   "execution_count": null,
   "metadata": {},
   "outputs": [],
   "source": [
    "def OMP(y, A):\n",
    "    \"\"\"\n",
    "        Main loop for the Othorgonal Matching Pursuit algorithm. \n",
    "        Given y and A, return the sparse result of x.\n",
    "    \"\"\"\n",
    "    M = A.shape[0]\n",
    "    N = A.shape[1]\n",
    "    \n",
    "    # Inital Residual is equal to the signal y\n",
    "    r = y\n",
    "    # Inital approximation is 0\n",
    "    v = np.zeros(N)\n",
    "    \n",
    "    span = np.zeros((M, 0))\n",
    "    span_indices = []\n",
    "    \n",
    "    err = 100\n",
    "    \n",
    "    while err > 1e-3:\n",
    "        inner_prods = np.abs(np.dot(r, A))\n",
    "        selected_index = np.argmax(inner_prods)\n",
    "        \n",
    "        span = np.append(span, A[:, selected_index].reshape(-1, 1), axis=1)\n",
    "        span_indices.append(selected_index)\n",
    "    \n",
    "        v = np.linalg.inv(span.transpose() @ span) @ span.transpose() @ y\n",
    "        r = y - span @ v\n",
    "        err = np.linalg.norm(y - span @ v)\n",
    "        \n",
    "    v_array = np.zeros(N)\n",
    "    v_array[span_indices] = v\n",
    "    return v_array"
   ]
  },
  {
   "cell_type": "code",
   "execution_count": null,
   "metadata": {},
   "outputs": [],
   "source": [
    "def compute_normalized_error(x, v):\n",
    "    return np.linalg.norm(x - v) / np.linalg.norm(x)"
   ]
  },
  {
   "cell_type": "code",
   "execution_count": null,
   "metadata": {},
   "outputs": [],
   "source": [
    "def main_exp(N, repeat_times, step = 1, acc_mat = None, norm_mat = None):\n",
    "    if acc_mat.all() == None:\n",
    "        acc_mat = np.zeros((N + 1, N + 1))\n",
    "    if norm_mat.all() == None:\n",
    "        norm_mat = np.zeros((N + 1, N + 1))\n",
    "\n",
    "    for M in range(1, N + 1, step):\n",
    "        for s in range(1, N + 1, step):\n",
    "            print(f\"Current M: {M}, s_max: {s}\")\n",
    "            \n",
    "            if norm_mat[M][s] != 0:\n",
    "                print(\"Processed, skip!\")\n",
    "                continue\n",
    "            \n",
    "            recover_cnt = 0\n",
    "            normalized_error = 0\n",
    "            cnt = 0\n",
    "            for t in trange(repeat_times):\n",
    "                cnt += 1\n",
    "                A = generate_A(M, N)\n",
    "                x = generate_x(N, s)\n",
    "                y = A @ x\n",
    "                v = OMP(y, A)\n",
    "                \n",
    "                if np.linalg.norm(x - v) < 1e-2:\n",
    "                    recover_cnt += 1\n",
    "                normalized_error += compute_normalized_error(x, v)\n",
    "            acc_mat[M][s] = recover_cnt / cnt\n",
    "            \n",
    "            # When the recover ratio is close to zero, stop increase s\n",
    "            # if acc_mat[M][s] < 1e-2:\n",
    "            #    break\n",
    "            \n",
    "            norm_mat[M][s] = normalized_error / cnt\n",
    "    return acc_mat, norm_mat"
   ]
  },
  {
   "cell_type": "code",
   "execution_count": null,
   "metadata": {},
   "outputs": [],
   "source": [
    "with open(\"./non_noise/acc_mat_100.pkl\", \"rb\") as reader:\n",
    "    acc_mat_100 = pickle.load(reader)\n",
    "with open(\"./non_noise/err_mat_100.pkl\", \"rb\") as reader:\n",
    "    norm_mat_100 = pickle.load(reader)"
   ]
  },
  {
   "cell_type": "code",
   "execution_count": null,
   "metadata": {},
   "outputs": [],
   "source": [
    "with np.cuda.Device(0):\n",
    "    \n",
    "    acc_mat = acc_mat"
   ]
  },
  {
   "cell_type": "code",
   "execution_count": null,
   "metadata": {},
   "outputs": [],
   "source": [
    "acc_mat, norm_mat = main_exp(20, 800, 1, acc_mat, norm_mat)"
   ]
  },
  {
   "cell_type": "code",
   "execution_count": null,
   "metadata": {},
   "outputs": [],
   "source": [
    "acc_mat_50, norm_mat_50 = main_exp(50, 500, 2, acc_mat_50, norm_mat_50)"
   ]
  },
  {
   "cell_type": "code",
   "execution_count": null,
   "metadata": {},
   "outputs": [],
   "source": [
    "acc_mat_100, norm_mat_100 = main_exp(100, 800, 2, acc_mat_100, norm_mat_100)"
   ]
  },
  {
   "cell_type": "code",
   "execution_count": null,
   "metadata": {},
   "outputs": [],
   "source": [
    "with open(\"./non_noise_fill/acc_mat_50.pkl\", \"wb\") as writer:\n",
    "    pickle.dump(acc_mat_50, writer)\n",
    "with open(\"./non_noise_fill/norm_mat_50.pkl\", \"wb\") as writer:\n",
    "    pickle.dump(norm_mat_50, writer)"
   ]
  },
  {
   "attachments": {},
   "cell_type": "markdown",
   "metadata": {},
   "source": [
    "# Noisy Case: Sparsity Known"
   ]
  },
  {
   "cell_type": "code",
   "execution_count": null,
   "metadata": {},
   "outputs": [],
   "source": [
    "def generate_n(M, sigma):\n",
    "    n = np.random.normal(0, sigma, (M,))\n",
    "    return n"
   ]
  },
  {
   "cell_type": "code",
   "execution_count": null,
   "metadata": {},
   "outputs": [],
   "source": [
    "def noisy_OMP_p(y, A, s):\n",
    "    \"\"\"\n",
    "        Main loop for the Othorgonal Matching Pursuit algorithm. \n",
    "        Given y and A, return the sparse result of x.\n",
    "        The sparsity s is known, and stop the the itertation at step s.\n",
    "    \"\"\"\n",
    "    M = A.shape[0]\n",
    "    N = A.shape[1]\n",
    "    \n",
    "    # Inital Residual is equal to the signal y\n",
    "    r = y\n",
    "    # Inital approximation is 0\n",
    "    v = np.zeros(N)\n",
    "    \n",
    "    span = np.zeros((M, 0))\n",
    "    span_indices = []\n",
    "    \n",
    "    err = 100\n",
    "    \n",
    "    # iterate for s times\n",
    "    for _ in range(s):\n",
    "        inner_prods = np.abs(np.dot(r, A))\n",
    "        selected_index = np.argmax(inner_prods)\n",
    "        \n",
    "        span = np.append(span, A[:, selected_index].reshape(-1, 1), axis=1)\n",
    "        span_indices.append(selected_index)\n",
    "    \n",
    "        v = np.linalg.inv(span.transpose() @ span) @ span.transpose() @ y\n",
    "        r = y - span @ v\n",
    "        err = np.linalg.norm(y - span @ v)\n",
    "        \n",
    "    v_array = np.zeros(N)\n",
    "    v_array[span_indices] = v\n",
    "    return v_array"
   ]
  },
  {
   "cell_type": "code",
   "execution_count": null,
   "metadata": {},
   "outputs": [],
   "source": [
    "def noise_main_exp_s(N, repeat_times, step = 1, sigma = 0.1):\n",
    "    acc_mat = np.zeros((N + 1, N + 1))\n",
    "    norm_mat = np.zeros((N + 1, N + 1))\n",
    "\n",
    "    for M in range(1, N + 1, step):\n",
    "        for s in range(1, N + 1, step):\n",
    "            print(f\"Current M: {M}, s_max: {s}\")\n",
    "            recover_cnt = 0\n",
    "            normalized_error = 0\n",
    "            cnt = 0\n",
    "            for t in trange(repeat_times):\n",
    "                cnt += 1\n",
    "                A = generate_A(M, N)\n",
    "                x = generate_x(N, s)\n",
    "                n = generate_n(M, sigma)\n",
    "                y = A @ x + n\n",
    "                v = noisy_OMP_p(y, A, s)\n",
    "                \n",
    "                norm_err = compute_normalized_error(x, v)\n",
    "                if norm_err < 1e-3:\n",
    "                    recover_cnt += 1\n",
    "                normalized_error += norm_err\n",
    "            acc_mat[M][s] = recover_cnt / cnt\n",
    "            print(acc_mat[M][s])\n",
    "            \n",
    "            # When the recover ratio is close to zero, stop increase s\n",
    "            if acc_mat[M][s] < 1e-2:\n",
    "                break\n",
    "            \n",
    "            norm_mat[M][s] = normalized_error / cnt\n",
    "    return acc_mat, norm_mat"
   ]
  },
  {
   "cell_type": "code",
   "execution_count": null,
   "metadata": {},
   "outputs": [],
   "source": [
    "acc_mat_noisy_s_20, norm_mat_noisy_s_20 = noise_main_exp_s(20, 1000, 1, 0.01)"
   ]
  },
  {
   "cell_type": "code",
   "execution_count": null,
   "metadata": {},
   "outputs": [],
   "source": [
    "acc_mat_noisy_s_50, norm_mat_noisy_s_50 = noise_main_exp_s(50, 1000, 2, 0.01)"
   ]
  },
  {
   "cell_type": "code",
   "execution_count": null,
   "metadata": {},
   "outputs": [],
   "source": [
    "acc_mat_noisy_s_100, norm_mat_noisy_s_100 = noise_main_exp_s(100, 1000, 3, 0.01)"
   ]
  },
  {
   "cell_type": "code",
   "execution_count": null,
   "metadata": {},
   "outputs": [],
   "source": [
    "with open(\"./noisy_with_s/acc_mat_noisy_s_100_001.pkl\", \"wb\") as writer:\n",
    "    pickle.dump(acc_mat_noisy_s_100, writer)\n",
    "with open(\"./noisy_with_s/norm_mat_noisy_s_100_001.pkl\", \"wb\") as writer:\n",
    "    pickle.dump(norm_mat_noisy_s_100, writer)"
   ]
  },
  {
   "cell_type": "code",
   "execution_count": null,
   "metadata": {},
   "outputs": [],
   "source": [
    "acc_mat_noisy_s_20_l, norm_mat_noisy_s_20_l = noise_main_exp_s(20, 500, 1, 0.5)\n"
   ]
  },
  {
   "cell_type": "code",
   "execution_count": null,
   "metadata": {},
   "outputs": [],
   "source": [
    "acc_mat_noisy_s_50_l, norm_mat_noisy_s_50_l = noise_main_exp_s(50, 2000, 1, 10)\n"
   ]
  },
  {
   "cell_type": "code",
   "execution_count": null,
   "metadata": {},
   "outputs": [],
   "source": [
    "acc_mat_noisy_s_100_l, norm_mat_noisy_s_100_l = noise_main_exp_s(100, 2000, 1, 10)"
   ]
  },
  {
   "cell_type": "code",
   "execution_count": null,
   "metadata": {},
   "outputs": [],
   "source": [
    "with open(\"./noisy_with_s/acc_mat_noisy_s_100_10.pkl\", \"wb\") as writer:\n",
    "    pickle.dump(acc_mat_noisy_s_100_l, writer)\n",
    "with open(\"./noisy_with_s/norm_mat_noisy_s_100_10.pkl\", \"wb\") as writer:\n",
    "    pickle.dump(norm_mat_noisy_s_100_l, writer)"
   ]
  },
  {
   "cell_type": "code",
   "execution_count": null,
   "metadata": {},
   "outputs": [],
   "source": [
    "acc_mat_noisy_s_20"
   ]
  },
  {
   "attachments": {},
   "cell_type": "markdown",
   "metadata": {},
   "source": [
    "# Noisy Case: Sparsity Unknown"
   ]
  },
  {
   "cell_type": "code",
   "execution_count": null,
   "metadata": {},
   "outputs": [],
   "source": [
    "def noisy_OMP_n(y, A, n):\n",
    "    \"\"\"\n",
    "        Main loop for the Othorgonal Matching Pursuit algorithm. \n",
    "        Given y and A, return the sparse result of x.\n",
    "        The noise n is known, stop when the norm of error is fewer than the norm of error.\n",
    "    \"\"\"\n",
    "    M = A.shape[0]\n",
    "    N = A.shape[1]\n",
    "    \n",
    "    # Inital Residual is equal to the signal y\n",
    "    r = y\n",
    "    # Inital approximation is 0\n",
    "    v = np.zeros(N)\n",
    "    \n",
    "    span = np.zeros((M, 0))\n",
    "    span_indices = []\n",
    "    \n",
    "    err = 100\n",
    "    n_norm = np.linalg.norm(n)\n",
    "    \n",
    "    while err > n_norm:\n",
    "        inner_prods = np.abs(np.dot(r, A))\n",
    "        selected_index = np.argmax(inner_prods)\n",
    "        \n",
    "        span = np.append(span, A[:, selected_index].reshape(-1, 1), axis=1)\n",
    "        span_indices.append(selected_index)\n",
    "    \n",
    "        v = np.linalg.inv(span.transpose() @ span) @ span.transpose() @ y\n",
    "        r = y - span @ v\n",
    "        err = np.linalg.norm(y - span @ v)\n",
    "        \n",
    "    v_array = np.zeros(N)\n",
    "    v_array[span_indices] = v\n",
    "    return v_array"
   ]
  },
  {
   "cell_type": "code",
   "execution_count": null,
   "metadata": {},
   "outputs": [],
   "source": [
    "def noise_main_exp_n(N, repeat_times, step = 1, sigma = 0.1):\n",
    "    acc_mat = np.zeros((N + 1, N + 1))\n",
    "    norm_mat = np.zeros((N + 1, N + 1))\n",
    "\n",
    "    for M in range(1, N + 1, step):\n",
    "        for s in range(1, N + 1, step):\n",
    "            print(f\"Current M: {M}, s_max: {s}\")\n",
    "            recover_cnt = 0\n",
    "            normalized_error = 0\n",
    "            cnt = 0\n",
    "            for t in trange(repeat_times):\n",
    "                cnt += 1\n",
    "                A = generate_A(M, N)\n",
    "                x = generate_x(N, s)\n",
    "                n = generate_n(M, sigma)\n",
    "                y = A @ x + n\n",
    "                v = noisy_OMP_n(y, A, n)\n",
    "                \n",
    "                norm_err = compute_normalized_error(x, v)\n",
    "                if norm_err < 1e-3:\n",
    "                    recover_cnt += 1\n",
    "                normalized_error += norm_err\n",
    "            acc_mat[M][s] = recover_cnt / cnt\n",
    "            \n",
    "            # When the recover ratio is close to zero, stop increase s\n",
    "            if acc_mat[M][s] < 1e-2:\n",
    "                break\n",
    "            \n",
    "            norm_mat[M][s] = normalized_error / cnt\n",
    "    return acc_mat, norm_mat"
   ]
  },
  {
   "cell_type": "code",
   "execution_count": null,
   "metadata": {},
   "outputs": [],
   "source": [
    "acc_mat_noisy_n_20, norm_mat_noisy_n_20 = noise_main_exp_n(20, 1000, 1, 0.01)"
   ]
  },
  {
   "cell_type": "code",
   "execution_count": null,
   "metadata": {},
   "outputs": [],
   "source": [
    "acc_mat_noisy_n_50, norm_mat_noisy_n_50 = noise_main_exp_n(50, 1000, 2, 0.01)"
   ]
  },
  {
   "cell_type": "code",
   "execution_count": null,
   "metadata": {},
   "outputs": [],
   "source": [
    "acc_mat_noisy_n_100, norm_mat_noisy_n_100 = noise_main_exp_n(100, 1000, 3, 0.01)"
   ]
  },
  {
   "cell_type": "code",
   "execution_count": null,
   "metadata": {},
   "outputs": [],
   "source": [
    "acc_mat_noisy_n_20_10, norm_mat_noisy_n_20_10 = noise_main_exp_n(20, 1000, 1, 10)"
   ]
  },
  {
   "cell_type": "code",
   "execution_count": null,
   "metadata": {},
   "outputs": [],
   "source": [
    "acc_mat_noisy_n_50_10, norm_mat_noisy_n_50_10 = noise_main_exp_n(50, 1000, 1, 10)"
   ]
  },
  {
   "cell_type": "code",
   "execution_count": null,
   "metadata": {},
   "outputs": [],
   "source": [
    "acc_mat_noisy_n_100_10, norm_mat_noisy_n_100_10 = noise_main_exp_n(100, 1000, 2, 1)"
   ]
  },
  {
   "cell_type": "code",
   "execution_count": null,
   "metadata": {},
   "outputs": [],
   "source": [
    "with open(\"./noisy_with_n/acc_mat_noisy_s_100_10.pkl\", \"wb\") as writer:\n",
    "    pickle.dump(acc_mat_noisy_n_100_10, writer)\n",
    "with open(\"./noisy_with_n/norm_mat_noisy_s_100_10.pkl\", \"wb\") as writer:\n",
    "    pickle.dump(norm_mat_noisy_n_100_10, writer)"
   ]
  },
  {
   "attachments": {},
   "cell_type": "markdown",
   "metadata": {},
   "source": [
    "# Image Recover"
   ]
  },
  {
   "cell_type": "code",
   "execution_count": null,
   "metadata": {},
   "outputs": [],
   "source": [
    "import scipy.io\n",
    "import matplotlib.pyplot as plt\n",
    "from PIL import Image"
   ]
  },
  {
   "cell_type": "code",
   "execution_count": null,
   "metadata": {},
   "outputs": [],
   "source": [
    "mat = scipy.io.loadmat('Homeworks_export\\Data for HW3\\Y1 Y2 Y3 and A1 A2 A3.mat')"
   ]
  },
  {
   "attachments": {},
   "cell_type": "markdown",
   "metadata": {},
   "source": [
    "## OMP Method"
   ]
  },
  {
   "cell_type": "code",
   "execution_count": null,
   "metadata": {},
   "outputs": [],
   "source": [
    "def recover_image(A, y):\n",
    "    y = np.array(y.reshape(-1))\n",
    "    A = np.array(A)\n",
    "    x = OMP(y, A)\n",
    "    x = x.reshape(160, 90).transpose()\n",
    "    normalized_x = (x - np.min(x)) / (np.max(x) - np.min(x))\n",
    "    image = Image.fromarray(np.uint8(normalized_x.get() * 255))\n",
    "    return image, x"
   ]
  },
  {
   "cell_type": "code",
   "execution_count": null,
   "metadata": {},
   "outputs": [],
   "source": [
    "def count_sparsity(x):\n",
    "    cnt = 0\n",
    "    for e in x.reshape(-1):\n",
    "        if e != 0:\n",
    "            cnt += 1\n",
    "    return cnt"
   ]
  },
  {
   "cell_type": "code",
   "execution_count": null,
   "metadata": {},
   "outputs": [],
   "source": [
    "i1, x1 = recover_image(mat['A1'], mat['y1'])\n",
    "i2, x2 = recover_image(mat['A2'], mat['y2'])\n",
    "i3, x3 = recover_image(mat['A3'], mat['y3'])"
   ]
  },
  {
   "cell_type": "code",
   "execution_count": null,
   "metadata": {},
   "outputs": [],
   "source": [
    "i1.save('pic1.png')\n",
    "i2.save('pic2.png')\n",
    "i3.save('pic3.png')\n"
   ]
  },
  {
   "cell_type": "code",
   "execution_count": null,
   "metadata": {},
   "outputs": [],
   "source": [
    "print('A1 shape: {}, sparsity: {}'.format(mat['A1'].shape, count_sparsity(x1)))\n",
    "print('A2 shape: {}, sparsity: {}'.format(mat['A2'].shape, count_sparsity(x2)))\n",
    "print('A3 shape: {}, sparsity: {}'.format(mat['A3'].shape, count_sparsity(x3)))"
   ]
  },
  {
   "attachments": {},
   "cell_type": "markdown",
   "metadata": {},
   "source": [
    "## Least Squares Method"
   ]
  },
  {
   "cell_type": "code",
   "execution_count": null,
   "metadata": {},
   "outputs": [],
   "source": [
    "import numpy"
   ]
  },
  {
   "cell_type": "code",
   "execution_count": null,
   "metadata": {},
   "outputs": [],
   "source": [
    "def least_squares(A, y):\n",
    "    A = numpy.array(A)\n",
    "    y = numpy.array(y)\n",
    "    x_t = numpy.linalg.solve(A.transpose() @ A, A.transpose() @ y)\n",
    "    x = x_t.reshape(160, 90).transpose()\n",
    "    normalized_x = (x - np.min(x)) / (np.max(x) - np.min(x))\n",
    "    image = Image.fromarray(np.uint8(normalized_x * 255))\n",
    "    return image, x_t"
   ]
  },
  {
   "cell_type": "code",
   "execution_count": null,
   "metadata": {},
   "outputs": [],
   "source": [
    "i1_ls, x1_ls = least_squares(mat['A1'], mat['y1'])\n",
    "i2_ls, x2_ls = least_squares(mat['A2'], mat['y2'])\n",
    "i3_ls, x3_ls = least_squares(mat['A3'], mat['y3'])"
   ]
  },
  {
   "cell_type": "code",
   "execution_count": null,
   "metadata": {},
   "outputs": [],
   "source": [
    "i1_ls.save('pic1_ls.png')\n",
    "i2_ls.save('pic2_ls.png')\n",
    "i3_ls.save('pic3_ls.png')"
   ]
  },
  {
   "cell_type": "code",
   "execution_count": null,
   "metadata": {},
   "outputs": [],
   "source": [
    "mul = np.array(mat['A1'].transpose()) @ np.array(mat['A1'])"
   ]
  },
  {
   "cell_type": "code",
   "execution_count": null,
   "metadata": {},
   "outputs": [],
   "source": [
    "inv = numpy.linalg.inv(mul)"
   ]
  },
  {
   "cell_type": "code",
   "execution_count": null,
   "metadata": {},
   "outputs": [],
   "source": [
    "inv @ (mat['A1'].transpose() @ mat['A1'])"
   ]
  },
  {
   "cell_type": "code",
   "execution_count": 658,
   "metadata": {},
   "outputs": [
    {
     "data": {
      "text/plain": [
       "<matplotlib.image.AxesImage at 0x1c2feb7d630>"
      ]
     },
     "execution_count": 658,
     "metadata": {},
     "output_type": "execute_result"
    },
    {
     "data": {
      "image/png": "[encoded data removed]",
      "text/plain": [
       "<Figure size 853.333x480 with 1 Axes>"
      ]
     },
     "metadata": {},
     "output_type": "display_data"
    }
   ],
   "source": [
    "plt.matshow(x2.get().reshape(90, 160))"
   ]
  },
  {
   "cell_type": "code",
   "execution_count": null,
   "metadata": {},
   "outputs": [],
   "source": [
    "mat['y1'].shape"
   ]
  },
  {
   "cell_type": "code",
   "execution_count": null,
   "metadata": {},
   "outputs": [],
   "source": [
    "mat['y2'].shape"
   ]
  },
  {
   "cell_type": "code",
   "execution_count": null,
   "metadata": {},
   "outputs": [],
   "source": [
    "mat['y3'].shape"
   ]
  },
  {
   "cell_type": "code",
   "execution_count": null,
   "metadata": {},
   "outputs": [],
   "source": []
  }
 ],
 "metadata": {
  "kernelspec": {
   "display_name": "Python 3",
   "language": "python",
   "name": "python3"
  },
  "language_info": {
   "codemirror_mode": {
    "name": "ipython",
    "version": 3
   },
   "file_extension": ".py",
   "mimetype": "text/x-python",
   "name": "python",
   "nbconvert_exporter": "python",
   "pygments_lexer": "ipython3",
   "version": "3.10.10"
  },
  "orig_nbformat": 4,
  "vscode": {
   "interpreter": {
    "hash": "04faa4d15801831eeeb1d44c9b7c5cab7c4e00f3506080317dfcc2c9f2c4bf59"
   }
  }
 },
 "nbformat": 4,
 "nbformat_minor": 2
}
